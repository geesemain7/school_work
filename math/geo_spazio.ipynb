{
 "cells": [
  {
   "cell_type": "markdown",
   "id": "ffd6858f",
   "metadata": {},
   "source": [
    "# **Geometria nello Spazio**"
   ]
  },
  {
   "cell_type": "markdown",
   "id": "b61fe779",
   "metadata": {},
   "source": [
    "Uno **spazio** è un può essere rappresentato con un riferimento cartesiano in **tre dimensioni** con origine $O$ da tre rispettivi assi $x$, $y$ e $z$, anche detti **ascissa**, **ordinata** e **quota**. Le assi delineano anche i **piani coordinati** $Oxy$, $Oxz$ e $Oyz$."
   ]
  },
  {
   "cell_type": "markdown",
   "id": "e561326d",
   "metadata": {},
   "source": [
    "[insert image]"
   ]
  },
  {
   "cell_type": "markdown",
   "id": "44f9bfe9",
   "metadata": {},
   "source": [
    "I punti sono rappresentati con tre dimensioni corrispettivi ai tre assi. Ad esempio:\n",
    "\n",
    "[image here]\n",
    "\n",
    "$$P(x_{P}; y_{P}; z_{P}) = (2; 4; 5)$$\n",
    "$$A(x_{A}; y_{A}; z_{A}) = (2; 4; 0)$$"
   ]
  },
  {
   "cell_type": "markdown",
   "id": "14a18965",
   "metadata": {},
   "source": [
    "| Distanza tra due punti | Punto medio |\n",
    "|-|-|\n",
    "| $\\overline{PA} = \\sqrt{ (x_{P} - x_{A})^{2} + (y_{P} - y_{A})^{2} + (z_{P} - z_{A})^{2}}$ | $ M = ( \\frac{x_{P} + x_{A}}{2} ; \\frac{y_{P} + y_{A}}{2} ; \\frac{z_{P} + z_{A}}{2} ) $ |"
   ]
  },
  {
   "cell_type": "markdown",
   "id": "1688701b",
   "metadata": {},
   "source": [
    "## **Vettori nello spazio**"
   ]
  },
  {
   "cell_type": "markdown",
   "id": "1995cf0a",
   "metadata": {},
   "source": []
  }
 ],
 "metadata": {
  "language_info": {
   "name": "python"
  }
 },
 "nbformat": 4,
 "nbformat_minor": 5
}
