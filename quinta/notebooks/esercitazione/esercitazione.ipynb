{
 "cells": [
  {
   "cell_type": "markdown",
   "id": "c6da81d4-df03-4cf1-b872-e7fe8eea5ba9",
   "metadata": {},
   "source": [
    "# Verifica di Aodhan Perrin"
   ]
  },
  {
   "cell_type": "markdown",
   "id": "80a13b7b-95a1-406a-8c04-391e64e55da6",
   "metadata": {},
   "source": [
    "## Il riso\n",
    "\n",
    "> ``Se vedi un affamato non dargli del riso: insegnali a coltivare``\n",
    "\n",
    "*Confucio* filosofo cinese (551 - 479 a.C.)"
   ]
  },
  {
   "cell_type": "markdown",
   "id": "c4d3b2c4-c8f7-4887-a768-c67e39992791",
   "metadata": {
    "jp-MarkdownHeadingCollapsed": true
   },
   "source": [
    "### Tipi di riso\n",
    "\n",
    "|Tipi di riso|Chicchi|Descrizione|Tempo di cottura|\n",
    "|:-|:-:|:-:|-:|\n",
    "|![riso1](riso1.jpg \"Riso comune\")<br>*Riso comune*|chicchi toni|lunghezza inferiore a 5.4mm|adatti per minestre, minestroni e dolci (cuociono in 12-13 minuti)|\n",
    "|![riso2](riso2.jpg \"Riso semifino\")<br>*Riso semifino*|chicchi tondeggianti|lunghezza fra 5.4mm e 6.4mm|adatti per antipasti, risi in bianco, timbali (cuociono in 13-15 minuti)|\n",
    "|![riso3](riso3.jpg \"Riso fino\")<br>*Riso fino*|chicchi affusolati|lunghezza superiore a 6.4mm|adatti per risotti e contorni (cuociono in 14-16 minuti)|\n",
    "|![riso4](riso4.jpg \"Riso superfino\")<br>*Riso superfino*|chicchi grossi e molto lunghi|lunghezza superiore a 6.4mm|adattati alla preparazione di risotti e contorni (cuociono in 16-18 minuti)|\n",
    "\n",
    "Il riso costituisce il seme della **Oryza sativa**, pianta erbacea annua della famiglia delle Graminacee. Il riso è una delle cinque specie alimentari fondamentali per il genere umano ed è la principale pianta coltivata sulla terra.\n",
    "\n",
    "Il chicco del riso appena raccolto è rivestito da un involucro a più strati, tendente al colore marrone o giallo e contenente molte sostanze. Sotto i diversi strati protettivi, o tegumenti, che si assottigliano dall'esterno all'interno, si trova la cariosside. Il granello è costituito di proteine e, nella zona più interna, di granuli di amido (la cui formula chimica è ($C_{6}H_{10}O_{5})n$), di piccole dimensioni e spigolosi, compatti e riuniti a grappolo."
   ]
  },
  {
   "cell_type": "markdown",
   "id": "75fe3753-4859-4c6d-a8e8-79cba3da17ee",
   "metadata": {},
   "source": [
    "### Risotto allo zafferano\n",
    "\n",
    "#### Ingredienti per 4 persone\n",
    "\n",
    "- 400g di riso,\n",
    "- 1 litro di brodo:\n",
    "  - 1 litro d'acqua\n",
    "  - 2 dadi\n",
    "- un pezzetto di cipolla,\n",
    "- 2 bustine di zafferano,\n",
    "- 1 noce di brutto,\n",
    "- 1 bicchiere di latte,\n",
    "- un po' d'olio,\n",
    "- un pizzico di sale.\n",
    "\n",
    "#### Preparazione\n",
    "\n",
    "1. Rosolare la cipolla nell'olio, aggiungere il riso e farlo tostare. Intanto far bollire dell'acqua in un pentolino con il dado.\n",
    "2. Versare un po' per volta il brodo nella pentola con il riso, e far cuocere a fuoco basso ricordando di girare spesso il riso con un cucchiaio di legno.\n",
    "3. Quando il riso e quasi cotto, aggiungere il latte, lo zafferano e il burro.\n",
    "4. Servire il tutto con una spolverata di parmigiano.\n",
    "\n",
    "Per maggiori informazioni clicca [qui](https://it.wikipedia.org/wiki/Riso_(alimento) \"qui\")\n"
   ]
  }
 ],
 "metadata": {
  "kernelspec": {
   "display_name": "anaconda-ai-2024.04-py310",
   "language": "python",
   "name": "conda-env-anaconda-ai-2024.04-py310-py"
  },
  "language_info": {
   "codemirror_mode": {
    "name": "ipython",
    "version": 3
   },
   "file_extension": ".py",
   "mimetype": "text/x-python",
   "name": "python",
   "nbconvert_exporter": "python",
   "pygments_lexer": "ipython3",
   "version": "3.10.13"
  }
 },
 "nbformat": 4,
 "nbformat_minor": 5
}
