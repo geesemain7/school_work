{
 "cells": [
  {
   "cell_type": "code",
   "execution_count": 22,
   "metadata": {},
   "outputs": [],
   "source": [
    "from sympy import *\n"
   ]
  },
  {
   "cell_type": "code",
   "execution_count": 23,
   "metadata": {},
   "outputs": [
    {
     "data": {
      "text/latex": [
       "$\\displaystyle \\left( 1, \\  \\sqrt{\\frac{x + 1}{x - 2}}\\right)$"
      ],
      "text/plain": [
       "⎛       _______⎞\n",
       "⎜      ╱ x + 1 ⎟\n",
       "⎜1,   ╱  ───── ⎟\n",
       "⎝   ╲╱   x - 2 ⎠"
      ]
     },
     "execution_count": 23,
     "metadata": {},
     "output_type": "execute_result"
    }
   ],
   "source": [
    "init_printing()\n",
    "x, y = symbols('x y')\n",
    "\n",
    "#expr = (x + 1) ** 2\n",
    "#expr\n",
    "\n",
    "#expand_expr = expand(expr)\n",
    "#expand_expr\n",
    "\n",
    "prim = sqrt((x+1)/(x-2)).primitive()\n",
    "prim"
   ]
  }
 ],
 "metadata": {
  "kernelspec": {
   "display_name": "Python 3",
   "language": "python",
   "name": "python3"
  },
  "language_info": {
   "codemirror_mode": {
    "name": "ipython",
    "version": 3
   },
   "file_extension": ".py",
   "mimetype": "text/x-python",
   "name": "python",
   "nbconvert_exporter": "python",
   "pygments_lexer": "ipython3",
   "version": "3.12.1"
  }
 },
 "nbformat": 4,
 "nbformat_minor": 2
}
