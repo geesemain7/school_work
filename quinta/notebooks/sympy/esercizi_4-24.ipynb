{
 "cells": [
  {
   "cell_type": "code",
   "id": "47f94ee3",
   "metadata": {
    "ExecuteTime": {
     "end_time": "2025-04-29T17:00:12.190762Z",
     "start_time": "2025-04-29T17:00:12.189239Z"
    }
   },
   "source": [
    "from sympy import *\n",
    "from sympy.abc import *\n",
    "\n",
    "from math import pi as PI"
   ],
   "outputs": [],
   "execution_count": 31
  },
  {
   "cell_type": "markdown",
   "id": "f1b4d8e2",
   "metadata": {},
   "source": [
    "# **Livello Facile**"
   ]
  },
  {
   "cell_type": "markdown",
   "id": "1fa94962",
   "metadata": {},
   "source": [
    "### **Esercizio 1: Calcola l'integrale indefinito di $f(x) = x^2 + 2x$**"
   ]
  },
  {
   "cell_type": "code",
   "id": "f41c74ea",
   "metadata": {
    "ExecuteTime": {
     "end_time": "2025-04-29T17:00:12.221068Z",
     "start_time": "2025-04-29T17:00:12.209522Z"
    }
   },
   "source": [
    "f = x**2 + 2*x\n",
    "f"
   ],
   "outputs": [
    {
     "data": {
      "text/plain": [
       "x**2 + 2*x"
      ],
      "text/latex": "$\\displaystyle x^{2} + 2 x$"
     },
     "execution_count": 32,
     "metadata": {},
     "output_type": "execute_result"
    }
   ],
   "execution_count": 32
  },
  {
   "cell_type": "code",
   "id": "008067db",
   "metadata": {
    "ExecuteTime": {
     "end_time": "2025-04-29T17:00:12.261811Z",
     "start_time": "2025-04-29T17:00:12.259753Z"
    }
   },
   "source": [
    "F = integrate(f, x)\n",
    "F"
   ],
   "outputs": [
    {
     "data": {
      "text/plain": [
       "x**3/3 + x**2"
      ],
      "text/latex": "$\\displaystyle \\frac{x^{3}}{3} + x^{2}$"
     },
     "execution_count": 33,
     "metadata": {},
     "output_type": "execute_result"
    }
   ],
   "execution_count": 33
  },
  {
   "cell_type": "markdown",
   "id": "da86a1e6",
   "metadata": {},
   "source": [
    "\n",
    "### *Qual è la primitiva della funzione?*\n",
    "\n",
    "La primitiva della funzione $f(x)$ è:\n",
    "### $$F(x) = \\frac{1}{3}x^3 + x^2 $$"
   ]
  },
  {
   "cell_type": "markdown",
   "id": "372001f9",
   "metadata": {},
   "source": [
    "### *Come puoi verificarla con la derivata?*\n",
    "\n",
    "Possiamo verificare che $F(x)$ è la primitiva di $f(x)$ semplicemente calcolando la sua derivata:"
   ]
  },
  {
   "cell_type": "code",
   "id": "abb45a54",
   "metadata": {
    "ExecuteTime": {
     "end_time": "2025-04-29T17:00:12.314159Z",
     "start_time": "2025-04-29T17:00:12.312152Z"
    }
   },
   "source": [
    "diff(F, x)"
   ],
   "outputs": [
    {
     "data": {
      "text/plain": [
       "x**2 + 2*x"
      ],
      "text/latex": "$\\displaystyle x^{2} + 2 x$"
     },
     "execution_count": 34,
     "metadata": {},
     "output_type": "execute_result"
    }
   ],
   "execution_count": 34
  },
  {
   "cell_type": "markdown",
   "id": "21174855",
   "metadata": {},
   "source": [
    "### *Dove potrebbe comparire una funzione del genere nella realtà?*\n",
    "\n",
    "Un esempio dell'uso di una funzione parabolica è se andiamo ad analizzare lo spazio percorso da un oggetto lanciato. Grazie al fatto che parte della legge oraria del moto parabolico è un'equazione polinomiale di secondo grado, riusciamo a ricavare lo spazio sull'asse della $y$ tramite l'uso dell'equazione parabolica."
   ]
  },
  {
   "cell_type": "markdown",
   "id": "c2f1d38d",
   "metadata": {},
   "source": [
    "### **Esercizio 2: Calcola l'area sotto la curva di $f(x) = 3x$ tra $x = 0$ e $x = 4$**"
   ]
  },
  {
   "cell_type": "code",
   "id": "3be76559",
   "metadata": {
    "ExecuteTime": {
     "end_time": "2025-04-29T17:00:12.358266Z",
     "start_time": "2025-04-29T17:00:12.356927Z"
    }
   },
   "source": [
    "f = 3*x"
   ],
   "outputs": [],
   "execution_count": 35
  },
  {
   "cell_type": "markdown",
   "id": "18e21c88",
   "metadata": {},
   "source": [
    "### *Quanto vale l'area?*"
   ]
  },
  {
   "cell_type": "markdown",
   "id": "da197a14",
   "metadata": {},
   "source": [
    "L'area tra la funzione $f(x)$ e l'ascissa calcolata nell'intervallo $[0, 4]$ è:"
   ]
  },
  {
   "cell_type": "code",
   "id": "6fd83c8b",
   "metadata": {
    "ExecuteTime": {
     "end_time": "2025-04-29T17:00:12.410457Z",
     "start_time": "2025-04-29T17:00:12.406973Z"
    }
   },
   "source": [
    "area = integrate(f, (x, 0, 4))\n",
    "area"
   ],
   "outputs": [
    {
     "data": {
      "text/plain": [
       "24"
      ],
      "text/latex": "$\\displaystyle 24$"
     },
     "execution_count": 36,
     "metadata": {},
     "output_type": "execute_result"
    }
   ],
   "execution_count": 36
  },
  {
   "cell_type": "markdown",
   "id": "112125aa",
   "metadata": {},
   "source": [
    "### *Che cosa rappresenta geometricamente?*\n",
    "\n",
    "L'area rappresentata assume la forma di un triangolo rettangolo. Lo possiamo verificare se lo andiamo a rappresentare in Desmos:\n",
    "\n",
    "<img \n",
    "    style=\"display: block; \n",
    "           margin-left: auto;\n",
    "           margin-right: auto;\n",
    "           width: 50%;\"\n",
    "    src=\"img/r_triangle.jpeg\"\n",
    "    alt=\"right triangle\">\n",
    "</img>\n"
   ]
  },
  {
   "cell_type": "markdown",
   "id": "4bba668f",
   "metadata": {},
   "source": [
    "### *Se questa fosse la velocità di un'auto, cosa rappresenterebbe l'integrale?*\n",
    "\n",
    "Se vediamo la funzione $f(x)$ in un grafico velocità-tempo, la sua primitiva $F(x) = \\frac{3}{2}x^2$ rappresenterebbe lo spazio percorso in funzione del tempo."
   ]
  },
  {
   "cell_type": "markdown",
   "id": "cd2e0bee",
   "metadata": {},
   "source": [
    "## **Livello Intermedio**"
   ]
  },
  {
   "cell_type": "markdown",
   "id": "cf708693",
   "metadata": {},
   "source": "### **Esercizio 3: Calcola $\\int_{0}^{\\pi} sin(x) \\, dx$**"
  },
  {
   "cell_type": "code",
   "id": "6fbe67a0",
   "metadata": {
    "ExecuteTime": {
     "end_time": "2025-04-29T17:00:12.476995Z",
     "start_time": "2025-04-29T17:00:12.475631Z"
    }
   },
   "source": [
    "f = sin(x)"
   ],
   "outputs": [],
   "execution_count": 37
  },
  {
   "cell_type": "markdown",
   "id": "54795be9",
   "metadata": {},
   "source": [
    "### *Qual'è il risultato simbolico e approssimato?*"
   ]
  },
  {
   "cell_type": "markdown",
   "id": "227beff0",
   "metadata": {},
   "source": "Il risultato del integrale indefinito $\\int sin(x) \\, dx$ è:"
  },
  {
   "cell_type": "code",
   "id": "810d0894",
   "metadata": {
    "ExecuteTime": {
     "end_time": "2025-04-29T17:00:12.525692Z",
     "start_time": "2025-04-29T17:00:12.523341Z"
    }
   },
   "source": [
    "integrate(f, x)"
   ],
   "outputs": [
    {
     "data": {
      "text/plain": [
       "-cos(x)"
      ],
      "text/latex": "$\\displaystyle - \\cos{\\left(x \\right)}$"
     },
     "execution_count": 38,
     "metadata": {},
     "output_type": "execute_result"
    }
   ],
   "execution_count": 38
  },
  {
   "cell_type": "markdown",
   "id": "4fefcd13",
   "metadata": {},
   "source": "Invece il risultato del integrale definito (quindi l'area approssimativa) $\\int_{0}^{\\pi} sin(x) \\, dx$ è:"
  },
  {
   "cell_type": "code",
   "id": "4c52eee5",
   "metadata": {
    "ExecuteTime": {
     "end_time": "2025-04-29T17:00:12.580255Z",
     "start_time": "2025-04-29T17:00:12.574524Z"
    }
   },
   "source": [
    "integrate(f, (x, 0, PI))"
   ],
   "outputs": [
    {
     "data": {
      "text/plain": [
       "2.00000000000000"
      ],
      "text/latex": "$\\displaystyle 2.0$"
     },
     "execution_count": 39,
     "metadata": {},
     "output_type": "execute_result"
    }
   ],
   "execution_count": 39
  },
  {
   "cell_type": "markdown",
   "id": "69a6d7e2",
   "metadata": {},
   "source": [
    "### *Perché è positivo se la funzione oscilla?*\n",
    "\n",
    "$f(x)$ è un sinusoide che oscilla intorno all'ascissa, quindi ha intervalli ripetuti dove $f(x)$ è positivo o negativo. Se integriamo in uno degli intervalli positivi, l'area risulterà positiva, e viceversa per i negativi.\n",
    "\n",
    "Invece se integriamo in un intervallo di un periodo completo, quindi questo caso in $[0; 2\\pi]$, il risultato è:"
   ]
  },
  {
   "cell_type": "code",
   "id": "80a29cf6",
   "metadata": {
    "ExecuteTime": {
     "end_time": "2025-04-29T17:00:12.631055Z",
     "start_time": "2025-04-29T17:00:12.624742Z"
    }
   },
   "source": [
    "integrate(f, (x, 0, 2*PI))"
   ],
   "outputs": [
    {
     "data": {
      "text/plain": [
       "0"
      ],
      "text/latex": "$\\displaystyle 0$"
     },
     "execution_count": 40,
     "metadata": {},
     "output_type": "execute_result"
    }
   ],
   "execution_count": 40
  },
  {
   "cell_type": "markdown",
   "id": "c385f514",
   "metadata": {},
   "source": [
    "Nonostante il risultato è $0$, non vuol dire che non esiste un'area. Da un risultato del genere perché l'integrazione fa semplicemente la somma aritmetica dell'area in $[0; \\pi]$ e $[\\pi; 2\\pi]$.\n",
    "\n",
    "### $$ \\int_{0}^{\\pi} sin(x)\\,dx + \\int_{\\pi}^{2\\pi} sin(x)\\,dx $$\n",
    "\n",
    "Dato che le aree nei due intervalli sono uguali ma di segno opposto, il risultato di una somma è $0$. Invece per vedere l'area totale, dovremmo mettere gli singoli integrali sotto valore assoluto\\*.\n",
    "\n",
    "### $$ \\mid \\int_{0}^{\\pi} sin(x)\\,dx| \\mid + \\mid \\int_{\\pi}^{2\\pi} sin(x)\\,dx \\mid$$\n",
    "\n",
    "<div\n",
    "    style=\"text-align: right\">\n",
    "    <i>*In verità, non serve mettere il valore assoluto per gli intervalli in qui la siamo sicuri che la funzione è positiva, ma per completezza lo facciamo comunque.</i>\n",
    "</div>\n",
    "\n",
    "Infatti se lo calcoliamo, otteniamo l'area totale nell'intervallo $[0; 2\\pi]$"
   ]
  },
  {
   "cell_type": "code",
   "id": "7f34b344",
   "metadata": {
    "ExecuteTime": {
     "end_time": "2025-04-29T17:00:12.715125Z",
     "start_time": "2025-04-29T17:00:12.705598Z"
    }
   },
   "source": [
    "abs(integrate(f, (x, 0, PI))) + abs(integrate(f, (x, PI, 2*PI)))"
   ],
   "outputs": [
    {
     "data": {
      "text/plain": [
       "4.00000000000000"
      ],
      "text/latex": "$\\displaystyle 4.0$"
     },
     "execution_count": 41,
     "metadata": {},
     "output_type": "execute_result"
    }
   ],
   "execution_count": 41
  },
  {
   "cell_type": "markdown",
   "id": "966b1d39",
   "metadata": {},
   "source": [
    "### *Dove compare una sinusoide nella vita reale?*\n",
    "I sinusoidi solitamente si usano per descrivere qualcosa che oscilla ripetendosi. Un esempio potrebbe essere il moto circolare, dove se mettiamo in relazione lo spostamento su un'asse di un punto su un disco a vinile e il tempo, il grafico risultante sara un sinusoide."
   ]
  },
  {
   "cell_type": "markdown",
   "id": "7261718c",
   "metadata": {},
   "source": "### **Esercizio 4: Calcola $\\int_{0}^{5} e^{-x} \\, dx$**"
  },
  {
   "cell_type": "code",
   "id": "feaf0d65",
   "metadata": {
    "ExecuteTime": {
     "end_time": "2025-04-29T17:00:12.761522Z",
     "start_time": "2025-04-29T17:00:12.760162Z"
    }
   },
   "source": [
    "f = exp(-x)"
   ],
   "outputs": [],
   "execution_count": 42
  },
  {
   "cell_type": "markdown",
   "id": "3c032d18",
   "metadata": {},
   "source": [
    "### *Che valore ottieni?*\n",
    "\n",
    "Il valore che si ottiene non è un numero intero, e ha il valore:"
   ]
  },
  {
   "cell_type": "code",
   "id": "28003550",
   "metadata": {
    "ExecuteTime": {
     "end_time": "2025-04-29T17:00:12.839205Z",
     "start_time": "2025-04-29T17:00:12.829896Z"
    }
   },
   "source": [
    "float(integrate(f, (x, 0, 5)))"
   ],
   "outputs": [
    {
     "data": {
      "text/plain": [
       "0.9932620530009145"
      ]
     },
     "execution_count": 43,
     "metadata": {},
     "output_type": "execute_result"
    }
   ],
   "execution_count": 43
  },
  {
   "cell_type": "markdown",
   "id": "acf592ac",
   "metadata": {},
   "source": [
    "### *Cosa succede se aumenti il limite superiore?*\n",
    "\n",
    "Se lo aumenti, ottieni un'area maggiore, ma cresce infinitesimalmente di meno all'aumentare del limite superiore. Questo è perché eventualmente l'immagine di $f(x)$ tende a $0^+$, grazie al fatto che $y = 0$ è un asintoto orizzontale della funzione."
   ]
  },
  {
   "metadata": {},
   "cell_type": "markdown",
   "source": [
    "### *Che tipo di fenomeno segue questo andamento?*\n",
    "\n",
    "Segue il l'andamento di un limite che tende a $0^+$."
   ],
   "id": "af2f6b3cc75bac26"
  },
  {
   "cell_type": "markdown",
   "id": "dd17120f",
   "metadata": {},
   "source": [
    "## **Livello Avanzato**"
   ]
  },
  {
   "cell_type": "markdown",
   "id": "0a1b604f",
   "metadata": {},
   "source": [
    "### **Esercizio 5: Trova l'area tra $f(x) = x^2$ e $g(x) = 2x$**"
   ]
  },
  {
   "cell_type": "code",
   "id": "c160d320",
   "metadata": {
    "ExecuteTime": {
     "end_time": "2025-04-29T17:00:12.890280Z",
     "start_time": "2025-04-29T17:00:12.884974Z"
    }
   },
   "source": [
    "f = x**2\n",
    "g = 2*x\n",
    "\n",
    "integrate((g - f), (x, 0, 2))"
   ],
   "outputs": [
    {
     "data": {
      "text/plain": [
       "4/3"
      ],
      "text/latex": "$\\displaystyle \\frac{4}{3}$"
     },
     "execution_count": 44,
     "metadata": {},
     "output_type": "execute_result"
    }
   ],
   "execution_count": 44
  },
  {
   "cell_type": "markdown",
   "id": "d9495b1d",
   "metadata": {},
   "source": [
    "### *Qual'è l'intervallo di integrazione?*\n",
    "\n",
    "L'intervallo d'integrazione è tra le due ascisse dei punti di intersezione $(0; 0)$ e $(2; 4)$, quindi l'intervallo è $[0; 2]$"
   ]
  },
  {
   "metadata": {},
   "cell_type": "markdown",
   "source": [
    "### *Perché sottrai le due funzioni?*\n",
    "\n",
    "Dobbiamo fare la differenza tra due integrali definiti perché per trovare l'area richiesto, si tocca a sottrarre l'area formata da $f(x)$ dall'area formata da $g(x)$. Questo è perché $g(x)$ nell'intervallo $[0; 2]$ ha un'immagine maggiore di $f(x)$.\n",
    "\n",
    "In forma grafica, l'operazione si realizza così:\n",
    "\n",
    "<img \n",
    "    style=\"display: block; \n",
    "           margin-left: auto;\n",
    "           margin-right: auto;\n",
    "           width: 50%;\"\n",
    "    src=\"img/difference.png\"\n",
    "    alt=\"right triangle\">\n",
    "</img>\n"
   ],
   "id": "fd0482d260b46c5d"
  },
  {
   "metadata": {},
   "cell_type": "markdown",
   "source": [
    "### *Dove può servire questo tipo di calcolo?*\n",
    "\n",
    "Un esempio di integrazione in contesti reali puo essere nel contesto della termodinamica. Per un uso un po' piu concreto, si puo usare per il calcolo del lavoro di una trasformazione isoterma. La formula che conosciamo è $L = nRT \\cdot ln(\\frac{V_{f}}{V_{i}})$... perché?\n",
    "\n",
    "Consideriamo un grafico pressione-volume.\n",
    "Sappiamo che la temperatura $T$ e costante perche' la trasformazione e isoterma, e anche che il prodotto di $p \\cdot V$ e uguale a $nRT$ grazie alla legge del gas perfetto. In questo caso, $nRT$ e' costante, quindi anche $pV$ lo e'.\n",
    "Sapendo che in un piano pressione-volume il lavoro non e' altro che l'area tra la funzione e l'ascissa, possiamo vedere come si svolgerebbe con una integrazione con gli estremi come $V_{i}$ e $V_{f}$ e integrando su $V$:\n",
    "\n",
    "### $$ L = \\int_{V_{i}}^{V_{f}}{p \\cdot dV} $$\n",
    "\n",
    "Risolviamo questo integrale sapendo che $pV$ e' una costante:\n",
    "\n",
    "### $$ L = \\int_{V_{i}}^{V_{f}}{pV \\cdot \\frac{1}{V} \\cdot dV} $$\n",
    "### $$ = pV \\cdot \\int_{V_{i}}^{V_{f}}{\\frac{1}{V} \\cdot dV} $$\n",
    "### $$ = pV \\cdot (ln(V_{f}) - ln(V_{i})) $$\n",
    "### $$ = pV \\cdot ln(\\frac{V_{f}}{V_{i}}) $$\n",
    "\n",
    "Sapendo che $pV$ e' anche uguale a $nRT$, allora possiamo concludere che:\n",
    "\n",
    "### $$ L = nRT \\cdot ln(\\frac{V_{f}}{V_{i}}) $$\n",
    "\n",
    "E cosi', abbiamo dimostrato la formula del lavoro della trasformazione isoterma.\n",
    "\n"
   ],
   "id": "210b9ea3b1ff2cf8"
  },
  {
   "cell_type": "markdown",
   "id": "c9d7cac8",
   "metadata": {},
   "source": "## **Esercizio 6: Calcola $\\int_{0}^{1} ln(x + 1)\\, dx$**"
  },
  {
   "cell_type": "markdown",
   "id": "15d33379",
   "metadata": {},
   "source": [
    "### *Qual'è la strategia di integrazione?*\n",
    "\n",
    "Per risolvere l'integrale definito, dobbiamo prima calcolare la indefinita $\\int{ln(x+1)\\, dx}$. Ci sono due metodi per risolverlo, e per semplicità usiamo il metodo della sostituzione.\n",
    "\n",
    "*Poniamo l'argomento del logaritmo come $u$, calcolando anche $du$ con la derivata di $x + 1$:*\n",
    "\n",
    "$$ x + 1 \\rightarrow u$$\n",
    "$$ ... $$\n",
    "$$ \\int{ln(u)\\, du} $$\n",
    "\n",
    "*Vediamo la funzione integranda come $1 \\cdot ln(u)$:*\n",
    "\n",
    "$$ \\int{1 \\cdot ln(u)\\, du} $$\n",
    "\n",
    "*Applichiamo il metodo della sostituzione $\\int{(f \\cdot g')} = f \\cdot g - \\int{(f' \\cdot g})$, ponendo $f = ln(u)$ e $g' = 1$:*\n",
    "\n",
    "$$ f = ln(u) \\rightarrow f' = \\frac{1}{u} $$\n",
    "$$ g' = 1 \\rightarrow g = u $$\n",
    "$$ ... $$\n",
    "$$ \\int{1 \\cdot ln(u)\\,du} = u \\cdot ln(u) - \\int{1du} $$\n",
    "\n",
    "*Risolviamo l'ultimo integrale e mettiamo il risultato nell'equazione di prima per finire l'integrale indefinito:*\n",
    "\n",
    "$$ \\int{1du} = u $$\n",
    "$$ ... $$\n",
    "$$ u \\cdot ln(u) - \\int{1du} $$\n",
    "$$  = u \\cdot ln(u) - u $$\n",
    "\n",
    "*Per finirla, sostituiamo $u$ con $x + 1$:*\n",
    "\n",
    "$$ u \\cdot ln(u) - u $$\n",
    "$$ = (x + 1) \\cdot ln(x + 1) - x + 1 $$\n",
    "\n",
    "Adesso che abbiamo calcolato l'integrale indefinita, possiamo sostituire $x$ facendo la differenza tra l'estremo superiore e minore per completare l'integrazione.\n",
    "\n",
    "$$ [(x + 1) \\cdot ln(x + 1) - x + 1]_{0}^1 $$\n",
    "$$ = ((1 + 1) \\cdot ln (1 + 1) - 1 + 1) - ((0 + 1) \\cdot ln(0 + 1) - 0 + 1) $$\n",
    "$$ = 2ln(2) - 1ln(1) - 1 $$\n",
    "$$ = 2ln(2) - 1 $$\n",
    "\n",
    "E così siamo riusciti a risolvere l'integrale definita.\n",
    "\n",
    "$$ \\int_{0}^{1}{ln(x + 1) \\, dx} = 2ln(2) - 1 $$\n",
    "\n",
    "Verifichiamola con sympy:"
   ]
  },
  {
   "metadata": {
    "ExecuteTime": {
     "end_time": "2025-04-29T17:00:12.955692Z",
     "start_time": "2025-04-29T17:00:12.937692Z"
    }
   },
   "cell_type": "code",
   "source": "integrate(ln(x + 1), (x, 0, 1))",
   "id": "62a76fd93dcc54ab",
   "outputs": [
    {
     "data": {
      "text/plain": [
       "-1 + 2*log(2)"
      ],
      "text/latex": "$\\displaystyle -1 + 2 \\log{\\left(2 \\right)}$"
     },
     "execution_count": 45,
     "metadata": {},
     "output_type": "execute_result"
    }
   ],
   "execution_count": 45
  },
  {
   "cell_type": "markdown",
   "id": "ef588949",
   "metadata": {},
   "source": [
    "### *Dove troviamo i logaritmi nella vita reale?*\n",
    "\n",
    "Possiamo trovare i logaritmi per esempio quando misuriamo il livello di potenza di un suono (cio' che e' colloquialmente chiamato volume) in decibel, un'unita' che segue una scala non lineare ma logaritmica. Infatti, ogni aumento di $5dB$ da una potenza $L_{w}$ non corrisponderebbe a $L_{w} + 5$, ma invece $L_{w} \\cdot 5$\n",
    "\n"
   ]
  }
 ],
 "metadata": {
  "kernelspec": {
   "display_name": "Python 3",
   "language": "python",
   "name": "python3"
  },
  "language_info": {
   "codemirror_mode": {
    "name": "ipython",
    "version": 3
   },
   "file_extension": ".py",
   "mimetype": "text/x-python",
   "name": "python",
   "nbconvert_exporter": "python",
   "pygments_lexer": "ipython3",
   "version": "3.12.1"
  }
 },
 "nbformat": 4,
 "nbformat_minor": 5
}
