{
 "cells": [
  {
   "cell_type": "code",
   "execution_count": 43,
   "id": "47f94ee3",
   "metadata": {},
   "outputs": [],
   "source": [
    "import matplotlib.pyplot as plt\n",
    "from sympy import *\n",
    "from sympy.abc import *\n",
    "\n",
    "from math import pi as PI"
   ]
  },
  {
   "cell_type": "markdown",
   "id": "f1b4d8e2",
   "metadata": {},
   "source": [
    "# **Livello Facile**"
   ]
  },
  {
   "cell_type": "markdown",
   "id": "1fa94962",
   "metadata": {},
   "source": [
    "### **Esercizio 1: Calcola l'integrale indefinito di $f(x) = x^2 + 2x$**"
   ]
  },
  {
   "cell_type": "code",
   "execution_count": 44,
   "id": "f41c74ea",
   "metadata": {},
   "outputs": [
    {
     "data": {
      "text/latex": [
       "$\\displaystyle x^{2} + 2 x$"
      ],
      "text/plain": [
       "x**2 + 2*x"
      ]
     },
     "execution_count": 44,
     "metadata": {},
     "output_type": "execute_result"
    }
   ],
   "source": [
    "f = x**2 + 2*x\n",
    "f"
   ]
  },
  {
   "cell_type": "code",
   "execution_count": 45,
   "id": "008067db",
   "metadata": {},
   "outputs": [
    {
     "data": {
      "text/latex": [
       "$\\displaystyle \\frac{x^{3}}{3} + x^{2}$"
      ],
      "text/plain": [
       "x**3/3 + x**2"
      ]
     },
     "execution_count": 45,
     "metadata": {},
     "output_type": "execute_result"
    }
   ],
   "source": [
    "integrate(f, x)"
   ]
  },
  {
   "cell_type": "markdown",
   "id": "da86a1e6",
   "metadata": {},
   "source": [
    "\n",
    "### *Qual è la primitiva della funzione?*\n",
    "\n",
    "La primitiva della funzione $f(x)$ è:\n",
    "### $$F(x) = \\int \\frac{x^3}{3} + x^2 \\,dx$$"
   ]
  },
  {
   "cell_type": "markdown",
   "id": "372001f9",
   "metadata": {},
   "source": [
    "## *Come puoi verificarla con la derivata?*"
   ]
  },
  {
   "cell_type": "markdown",
   "id": "092bc6fc",
   "metadata": {},
   "source": [
    "Possiamo verificare che $F(x)$ è la primitiva di $f(x)$ semplicemente calcolando la sua derivata:"
   ]
  },
  {
   "cell_type": "code",
   "execution_count": 46,
   "id": "abb45a54",
   "metadata": {},
   "outputs": [
    {
     "data": {
      "text/latex": [
       "$\\displaystyle 0$"
      ],
      "text/plain": [
       "0"
      ]
     },
     "execution_count": 46,
     "metadata": {},
     "output_type": "execute_result"
    }
   ],
   "source": [
    "diff(F, x)"
   ]
  },
  {
   "cell_type": "markdown",
   "id": "21174855",
   "metadata": {},
   "source": [
    "### *Dove potrebbe comparire una funzione del genere nella realtà*"
   ]
  },
  {
   "cell_type": "markdown",
   "id": "d795da32",
   "metadata": {},
   "source": [
    "[ins here later]"
   ]
  },
  {
   "cell_type": "markdown",
   "id": "c2f1d38d",
   "metadata": {},
   "source": [
    "### **Esercizio 2: Calcola l'area sotto la curva di $f(x) = 3x$ tra $x = 0$ e $x = 4$**"
   ]
  },
  {
   "cell_type": "code",
   "execution_count": 47,
   "id": "3be76559",
   "metadata": {},
   "outputs": [],
   "source": [
    "f = 3*x"
   ]
  },
  {
   "cell_type": "markdown",
   "id": "18e21c88",
   "metadata": {},
   "source": [
    "### *Quanto vale l'area?*"
   ]
  },
  {
   "cell_type": "markdown",
   "id": "da197a14",
   "metadata": {},
   "source": [
    "L'area tra la funzione $f(x)$ e l'ascissa calcolata nell'intervallo $[0, 4]$ è:"
   ]
  },
  {
   "cell_type": "code",
   "execution_count": 48,
   "id": "6fd83c8b",
   "metadata": {},
   "outputs": [
    {
     "data": {
      "text/latex": [
       "$\\displaystyle 24$"
      ],
      "text/plain": [
       "24"
      ]
     },
     "execution_count": 48,
     "metadata": {},
     "output_type": "execute_result"
    }
   ],
   "source": [
    "area = integrate(f, (x, 0, 4))\n",
    "area"
   ]
  },
  {
   "cell_type": "markdown",
   "id": "112125aa",
   "metadata": {},
   "source": [
    "### *Che cosa rappresenta geometricamente?*\n",
    "\n",
    "L'area rappresentata assume la forma di un triangolo rettangolo. Lo possiamo verificare se lo andiamo a rappresentare in Desmos:\n",
    "\n",
    "<img \n",
    "    style=\"display: block; \n",
    "           margin-left: auto;\n",
    "           margin-right: auto;\n",
    "           width: 250px;\"\n",
    "    src=\"img/r_triangle.jpeg\"\n",
    "    alt=\"right triangle\">\n",
    "</img>\n",
    "\n",
    "### *Se questa fosse la velocità di un'auto, cosa rappresenterebbe l'integrale?*\n",
    "\n",
    "Se vediamo la funzioine $f(x)$ in un grafico velocità-tempo, la sua primitiva $F(x) = \\frac{3}{2}x^2$ rappresenterebbe lo spazio percorso in funzione del tempo.\n"
   ]
  },
  {
   "cell_type": "markdown",
   "id": "4bba668f",
   "metadata": {},
   "source": [
    "### *Se questa fosse la velocità di un'auto, cosa rappresenterebbe l'integrale?*\n",
    "\n",
    "Se vediamo la funzioine $f(x)$ in un grafico velocità-tempo, la sua primitiva $F(x) = \\frac{3}{2}x^2$ rappresenterebbe lo spazio percorso in funzione del tempo."
   ]
  },
  {
   "cell_type": "markdown",
   "id": "cd2e0bee",
   "metadata": {},
   "source": [
    "## **Livello Intermedio**"
   ]
  },
  {
   "cell_type": "markdown",
   "id": "cf708693",
   "metadata": {},
   "source": [
    "### **Esercizio 3: Calcola $\\int_{0}^{\\pi} sin(x) \\,dx$**"
   ]
  },
  {
   "cell_type": "code",
   "execution_count": 49,
   "id": "6fbe67a0",
   "metadata": {},
   "outputs": [],
   "source": [
    "f = sin(x)"
   ]
  },
  {
   "cell_type": "markdown",
   "id": "54795be9",
   "metadata": {},
   "source": [
    "### *Qual'è il risultato simbolico e approssimato?*"
   ]
  },
  {
   "cell_type": "markdown",
   "id": "227beff0",
   "metadata": {},
   "source": [
    "Il risultato del integrale indefinito $\\int sin(x) \\,dx$ è:"
   ]
  },
  {
   "cell_type": "code",
   "execution_count": 50,
   "id": "810d0894",
   "metadata": {},
   "outputs": [
    {
     "data": {
      "text/latex": [
       "$\\displaystyle - \\cos{\\left(x \\right)}$"
      ],
      "text/plain": [
       "-cos(x)"
      ]
     },
     "execution_count": 50,
     "metadata": {},
     "output_type": "execute_result"
    }
   ],
   "source": [
    "integrate(f, x)"
   ]
  },
  {
   "cell_type": "markdown",
   "id": "4fefcd13",
   "metadata": {},
   "source": [
    "Invece il risultato del integrale definito (quindi l'area apprissimativa) $\\int_{0}^{\\pi} sin(x) \\,dx$ è:"
   ]
  },
  {
   "cell_type": "code",
   "execution_count": 51,
   "id": "4c52eee5",
   "metadata": {},
   "outputs": [
    {
     "data": {
      "text/latex": [
       "$\\displaystyle 2.0$"
      ],
      "text/plain": [
       "2.00000000000000"
      ]
     },
     "execution_count": 51,
     "metadata": {},
     "output_type": "execute_result"
    }
   ],
   "source": [
    "integrate(f, (x, 0, PI))"
   ]
  },
  {
   "cell_type": "markdown",
   "id": "69a6d7e2",
   "metadata": {},
   "source": [
    "### *Perché è positivo se la funzione oscilla?*\n",
    "\n",
    "$f(x)$ è un sinusoide che oscilla intorno all'ascissa, quindi ha intervalli ripetuti dove $f(x)$ è positivo o negativo. Se integriamo in uno degli intervalli positivi, l'area risultera positiva, e viceversa per i negativi.\n",
    "\n",
    "Invece se integriamo in un intervallo di un periodo completo, quindi questo caso in $[0; 2\\pi]$, il risultato è:"
   ]
  },
  {
   "cell_type": "code",
   "execution_count": 52,
   "id": "80a29cf6",
   "metadata": {},
   "outputs": [
    {
     "data": {
      "text/latex": [
       "$\\displaystyle 0$"
      ],
      "text/plain": [
       "0"
      ]
     },
     "execution_count": 52,
     "metadata": {},
     "output_type": "execute_result"
    }
   ],
   "source": [
    "integrate(f, (x, 0, 2*PI))"
   ]
  },
  {
   "cell_type": "markdown",
   "id": "c385f514",
   "metadata": {},
   "source": [
    "Nonostante il risultato è $0$, non vuol dire che che non esiste un'area. Da un risultato del genere perché l'integrazione fa semplicemente la somma aritmetica dell'area in $[0; \\pi]$ e $[\\pi; 2\\pi]$.\n",
    "\n",
    "### $$ \\int_{0}^{\\pi} sin(x)\\,dx + \\int_{\\pi}^{2\\pi} sin(x)\\,dx $$\n",
    "\n",
    "Dato che le aree nei due intervalli sono uguali ma di segno opposto, il risultato di una somma è $0$. Invece per vedere l'area totale, dovremmo mettere gli singoli integrali sotto valore assoluto\\*.\n",
    "\n",
    "### $$ \\mid \\int_{0}^{\\pi} sin(x)\\,dx| \\mid + \\mid \\int_{\\pi}^{2\\pi} sin(x)\\,dx \\mid$$\n",
    "\n",
    "<div\n",
    "    style=\"text-align: right\">\n",
    "    <i>*In verità, non serve mettere il valore assoluto per gli intervalli in qui la siamo sicuri che la funzione è positiva, ma per completezza lo facciamo comunque.</i>\n",
    "</div>\n",
    "\n",
    "Infatti se lo calcoliamo, otteniamo l'area totale nell'intervallo $[0; 2\\pi]$"
   ]
  },
  {
   "cell_type": "code",
   "execution_count": 53,
   "id": "7f34b344",
   "metadata": {},
   "outputs": [
    {
     "data": {
      "text/latex": [
       "$\\displaystyle 4.0$"
      ],
      "text/plain": [
       "4.00000000000000"
      ]
     },
     "execution_count": 53,
     "metadata": {},
     "output_type": "execute_result"
    }
   ],
   "source": [
    "abs(integrate(f, (x, 0, PI))) + abs(integrate(f, (x, PI, 2*PI)))"
   ]
  },
  {
   "cell_type": "markdown",
   "id": "966b1d39",
   "metadata": {},
   "source": [
    "### *Dove compare una sinusoide nella vita reale?*\n",
    "\n",
    "[answer later]"
   ]
  },
  {
   "cell_type": "markdown",
   "id": "7261718c",
   "metadata": {},
   "source": [
    "### **Esercizio 4: Calcola $\\int_{0}^{5} e^{-x} \\,dx$**"
   ]
  },
  {
   "cell_type": "code",
   "execution_count": 54,
   "id": "feaf0d65",
   "metadata": {},
   "outputs": [],
   "source": [
    "f = exp(-x)"
   ]
  },
  {
   "cell_type": "markdown",
   "id": "3c032d18",
   "metadata": {},
   "source": [
    "### *Che valore ottieni?*\n",
    "\n",
    "Il valore che si ottiene non è un numero intero, e ha il valore:"
   ]
  },
  {
   "cell_type": "code",
   "execution_count": 55,
   "id": "28003550",
   "metadata": {},
   "outputs": [
    {
     "data": {
      "text/plain": [
       "0.9932620530009145"
      ]
     },
     "execution_count": 55,
     "metadata": {},
     "output_type": "execute_result"
    }
   ],
   "source": [
    "float(integrate(f, (x, 0, 5)))"
   ]
  },
  {
   "cell_type": "markdown",
   "id": "acf592ac",
   "metadata": {},
   "source": [
    "### *Cosa succede se aumenti il limite superiore?*\n",
    "\n",
    "Se lo aumenti, ottieni un'area maggiore, ma cresce infinitesimalmente di meno all'aumentare del limite superiore. Questo è perche eventualmente l'immagine di $f(x)$ tende a $0^+$, grazie al fatto che $y = 0$ è un asintoto orrizontale della funzione.\n",
    "\n",
    "### *Che tipo di fenomeno segue questo andamento?*\n",
    "\n",
    "Segue il l'andamento di un limite che tende a $0^+$."
   ]
  },
  {
   "cell_type": "markdown",
   "id": "dd17120f",
   "metadata": {},
   "source": [
    "## **Livello Avanzato**"
   ]
  },
  {
   "cell_type": "markdown",
   "id": "0a1b604f",
   "metadata": {},
   "source": [
    "### **Esercizio 5: Trova l'area tra $f(x) = x^2$ e $g(x) = 2x$**"
   ]
  },
  {
   "cell_type": "code",
   "execution_count": 56,
   "id": "c160d320",
   "metadata": {},
   "outputs": [
    {
     "data": {
      "text/latex": [
       "$\\displaystyle \\frac{4}{3}$"
      ],
      "text/plain": [
       "4/3"
      ]
     },
     "execution_count": 56,
     "metadata": {},
     "output_type": "execute_result"
    }
   ],
   "source": [
    "f = x**2\n",
    "g = 2*x\n",
    "\n",
    "integrate((g - f), (x, 0, 2))"
   ]
  },
  {
   "cell_type": "markdown",
   "id": "d9495b1d",
   "metadata": {},
   "source": [
    "### *Qual'è l'intervallo di integrazione?*\n",
    "\n",
    "L'intervallo d'integrazione è tra le due ascisse dei punti di intersezione $(0; 0)$ e $(2; 4)$, quindi l'intervallo è $[0; 2]$\n",
    "\n",
    "### *Perché sottrai le due funzioni?*\n",
    "\n",
    "Dobbiamo fare la differenza tra due integrali definti perché per trovare l'area richiesto, si tocca a sottrarre l'area formata da $f(x)$ dall'area formata da $g(x)$. Questo è perché $g(x)$ nell'intervallo $[0; 2]$ ha un'immagine maggiore di $f(x)$.\n",
    "\n",
    "In forma grafica, l'operazione si realizza così:\n",
    "\n",
    "\n",
    "\n",
    "### *Dove può servire questo tipo di calcolo?*\n",
    "\n",
    "[answer later]"
   ]
  },
  {
   "cell_type": "markdown",
   "id": "c9d7cac8",
   "metadata": {},
   "source": [
    "## **Esercizio 6: Calcola $\\int_{0}^{1} ln(x + 1)\\,dx$**"
   ]
  },
  {
   "cell_type": "markdown",
   "id": "15d33379",
   "metadata": {},
   "source": [
    "### *Qual'è la strategia di integrazione?*\n",
    "\n",
    "Per risolvere l'integrale definito, dobbiamo prima calcolare la indefinita $\\int{ln(x+1)\\,dx}$. Ci sono due metodi per risolverlo, e per semplicità usiamo il metodo della sostituzione.\n",
    "\n",
    "*Poniamo l'argomento del logaritmo come $u$, calcolando anche $du$ con la derivata di $x + 1$:*\n",
    "\n",
    "$$ x + 1 \\rightarrow u$$\n",
    "$$ ... $$\n",
    "$$ \\int{ln(u)\\,du} $$\n",
    "\n",
    "*Vediamo la funzione integranda come $1 \\cdot ln(u)$:*\n",
    "\n",
    "$$ \\int{1 \\cdot ln(u)\\,du} $$\n",
    "\n",
    "*Applichiamo il metodo della sostituzione $\\int{(f \\cdot g')} = f \\cdot g - \\int{(f' \\cdot g})$, pondendo $f = ln(u)$ e $g' = 1$:*\n",
    "\n",
    "$$ f = ln(u) \\rightarrow f' = \\frac{1}{u} $$\n",
    "$$ g' = 1 \\rightarrow g = u $$\n",
    "$$ ... $$\n",
    "$$ \\int{1 \\cdot ln(u)\\,du} = u \\cdot ln(u) - \\int{1du} $$\n",
    "\n",
    "*Risolviamo l'ultimo integrale e mettiamo il risultato nell'equazione di prima per finire l'integrale indefinito:*\n",
    "\n",
    "$$ \\int{1du} = u $$\n",
    "$$ ... $$\n",
    "$$ u \\cdot ln(u) - \\int{1du} $$\n",
    "$$  = u \\cdot ln(u) - u $$\n",
    "\n",
    "*Per finirla, risostituiamo $u$ con $x + 1$:*\n",
    "\n",
    "$$ u \\cdot ln(u) - u $$\n",
    "$$ = (x + 1) \\cdot ln(x + 1) - x + 1"
   ]
  },
  {
   "cell_type": "markdown",
   "id": "ef588949",
   "metadata": {},
   "source": []
  }
 ],
 "metadata": {
  "kernelspec": {
   "display_name": "Python 3",
   "language": "python",
   "name": "python3"
  },
  "language_info": {
   "codemirror_mode": {
    "name": "ipython",
    "version": 3
   },
   "file_extension": ".py",
   "mimetype": "text/x-python",
   "name": "python",
   "nbconvert_exporter": "python",
   "pygments_lexer": "ipython3",
   "version": "3.12.1"
  }
 },
 "nbformat": 4,
 "nbformat_minor": 5
}
