{
 "cells": [
  {
   "cell_type": "code",
   "execution_count": 1,
   "id": "f1409a67",
   "metadata": {},
   "outputs": [],
   "source": [
    "from sympy import *\n",
    "from sympy.abc import *"
   ]
  },
  {
   "cell_type": "markdown",
   "id": "e0f14a81",
   "metadata": {},
   "source": [
    "### E' possibile integrali definiti"
   ]
  },
  {
   "cell_type": "code",
   "execution_count": 2,
   "id": "02512e00",
   "metadata": {},
   "outputs": [
    {
     "data": {
      "text/latex": [
       "$\\displaystyle \\begin{cases} 2000 & \\text{for}\\: t \\geq 7 \\wedge t < 9 \\\\300 & \\text{for}\\: t \\geq 9 \\wedge t < 17 \\\\800 & \\text{for}\\: t \\geq 17 \\wedge t < 23 \\\\0 & \\text{otherwise} \\end{cases}$"
      ],
      "text/plain": [
       "Piecewise((2000, (t >= 7) & (t < 9)), (300, (t >= 9) & (t < 17)), (800, (t >= 17) & (t < 23)), (0, True))"
      ]
     },
     "execution_count": 2,
     "metadata": {},
     "output_type": "execute_result"
    }
   ],
   "source": [
    "P = Piecewise(\n",
    "    (2000, (t >= 7) & (t < 9)),\n",
    "    (300, (t >= 9) & (t < 17)),\n",
    "    (800, (t >= 17) & (t < 23)),\n",
    "    (0, True)\n",
    ")\n",
    "\n",
    "P"
   ]
  },
  {
   "cell_type": "code",
   "execution_count": 3,
   "id": "c1721725",
   "metadata": {},
   "outputs": [
    {
     "name": "stdout",
     "output_type": "stream",
     "text": [
      "Energia (Wh): 11200\n",
      "Energia (kWh): 11.2\n"
     ]
    }
   ],
   "source": [
    "energia = integrate(P, (t, 0, 24))\n",
    "\n",
    "print(f\"Energia (Wh): {energia}\")\n",
    "print(f\"Energia (kWh): {float(energia/1000)}\")"
   ]
  },
  {
   "cell_type": "markdown",
   "id": "039b6c3b",
   "metadata": {},
   "source": [
    "### E' possibile integrare anche gli integrali polinomiali"
   ]
  },
  {
   "cell_type": "code",
   "execution_count": 4,
   "id": "1d7696ab",
   "metadata": {},
   "outputs": [
    {
     "data": {
      "text/latex": [
       "$\\displaystyle x^{2} + 2 x + 1$"
      ],
      "text/plain": [
       "x**2 + 2*x + 1"
      ]
     },
     "execution_count": 4,
     "metadata": {},
     "output_type": "execute_result"
    }
   ],
   "source": [
    "f = x**2 + 2*x + 1\n",
    "f"
   ]
  },
  {
   "cell_type": "code",
   "execution_count": 5,
   "id": "8cd99e01",
   "metadata": {},
   "outputs": [
    {
     "data": {
      "text/latex": [
       "$\\displaystyle \\frac{x^{3}}{3} + x^{2} + x$"
      ],
      "text/plain": [
       "x**3/3 + x**2 + x"
      ]
     },
     "execution_count": 5,
     "metadata": {},
     "output_type": "execute_result"
    }
   ],
   "source": [
    "integrate(f, x)"
   ]
  },
  {
   "cell_type": "markdown",
   "id": "28ab9882",
   "metadata": {},
   "source": [
    "### E' possibile integrare funzioni razionali"
   ]
  },
  {
   "cell_type": "code",
   "execution_count": 6,
   "id": "e0d04dea",
   "metadata": {},
   "outputs": [
    {
     "data": {
      "text/latex": [
       "$\\displaystyle \\frac{x}{x^{2} + 2 x + 1}$"
      ],
      "text/plain": [
       "x/(x**2 + 2*x + 1)"
      ]
     },
     "execution_count": 6,
     "metadata": {},
     "output_type": "execute_result"
    }
   ],
   "source": [
    "f = x/(f)\n",
    "f"
   ]
  },
  {
   "cell_type": "code",
   "execution_count": 7,
   "id": "0a496a4a",
   "metadata": {},
   "outputs": [
    {
     "data": {
      "text/latex": [
       "$\\displaystyle \\log{\\left(x + 1 \\right)} + \\frac{1}{x + 1}$"
      ],
      "text/plain": [
       "log(x + 1) + 1/(x + 1)"
      ]
     },
     "execution_count": 7,
     "metadata": {},
     "output_type": "execute_result"
    }
   ],
   "source": [
    "integrate(f, x)"
   ]
  },
  {
   "cell_type": "markdown",
   "id": "dddc3331",
   "metadata": {},
   "source": [
    "### E' possibile integrare funzioni esponenziali"
   ]
  },
  {
   "cell_type": "code",
   "execution_count": 8,
   "id": "000809c3",
   "metadata": {},
   "outputs": [
    {
     "data": {
      "text/latex": [
       "$\\displaystyle x^{2} e^{x} \\cos{\\left(x \\right)}$"
      ],
      "text/plain": [
       "x**2*exp(x)*cos(x)"
      ]
     },
     "execution_count": 8,
     "metadata": {},
     "output_type": "execute_result"
    }
   ],
   "source": [
    "f = x**2 * exp(x) * cos(x)\n",
    "f"
   ]
  },
  {
   "cell_type": "code",
   "execution_count": 9,
   "id": "8e0eb103",
   "metadata": {},
   "outputs": [
    {
     "data": {
      "text/latex": [
       "$\\displaystyle \\frac{x^{2} e^{x} \\sin{\\left(x \\right)}}{2} + \\frac{x^{2} e^{x} \\cos{\\left(x \\right)}}{2} - x e^{x} \\sin{\\left(x \\right)} + \\frac{e^{x} \\sin{\\left(x \\right)}}{2} - \\frac{e^{x} \\cos{\\left(x \\right)}}{2}$"
      ],
      "text/plain": [
       "x**2*exp(x)*sin(x)/2 + x**2*exp(x)*cos(x)/2 - x*exp(x)*sin(x) + exp(x)*sin(x)/2 - exp(x)*cos(x)/2"
      ]
     },
     "execution_count": 9,
     "metadata": {},
     "output_type": "execute_result"
    }
   ],
   "source": [
    "integrate(f, x)"
   ]
  }
 ],
 "metadata": {
  "kernelspec": {
   "display_name": "Python 3",
   "language": "python",
   "name": "python3"
  },
  "language_info": {
   "codemirror_mode": {
    "name": "ipython",
    "version": 3
   },
   "file_extension": ".py",
   "mimetype": "text/x-python",
   "name": "python",
   "nbconvert_exporter": "python",
   "pygments_lexer": "ipython3",
   "version": "3.12.1"
  }
 },
 "nbformat": 4,
 "nbformat_minor": 5
}
