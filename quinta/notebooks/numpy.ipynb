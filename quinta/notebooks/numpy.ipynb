{
 "cells": [
  {
   "cell_type": "code",
   "execution_count": 272,
   "id": "d6d8b8d3-65dd-4879-b43a-2cec4b999d92",
   "metadata": {},
   "outputs": [
    {
     "name": "stdout",
     "output_type": "stream",
     "text": [
      "41\n"
     ]
    }
   ],
   "source": [
    "import random as rnd\n",
    "\n",
    "x = rnd.randint(0,100)\n",
    "\n",
    "print(x)"
   ]
  },
  {
   "cell_type": "code",
   "execution_count": 274,
   "id": "f77cb353-de40-47fe-896e-0aa74cc7989a",
   "metadata": {},
   "outputs": [
    {
     "name": "stdout",
     "output_type": "stream",
     "text": [
      "[1 5 3 4 2]\n",
      "<class 'numpy.ndarray'>\n"
     ]
    }
   ],
   "source": [
    "import numpy as np\n",
    "\n",
    "vettore = np.array([1, 5, 3, 4, 2])\n",
    "print(vettore)\n",
    "print(type(vettore))"
   ]
  },
  {
   "cell_type": "code",
   "execution_count": 286,
   "id": "f2cf0dc5-a03a-4331-846b-e9c11d543198",
   "metadata": {},
   "outputs": [
    {
     "name": "stdout",
     "output_type": "stream",
     "text": [
      "[[0 1 0 0 0]\n",
      " [0 0 1 0 1]\n",
      " [1 0 0 0 0]\n",
      " [0 0 1 0 0]\n",
      " [0 1 1 1 0]]\n",
      "<class 'numpy.ndarray'>\n"
     ]
    }
   ],
   "source": [
    "matrice = np.array([[0, 1, 0, 0, 0],\n",
    "                   [0, 0, 1, 0, 1], \n",
    "                   [1, 0, 0, 0, 0],\n",
    "                   [0, 0, 1, 0, 0],\n",
    "                   [0, 1, 1, 1, 0]])\n",
    "\n",
    "print(matrice)\n",
    "print(type(matrice))"
   ]
  },
  {
   "cell_type": "code",
   "execution_count": 367,
   "id": "18ce82b3-06f1-4193-97fd-421cd1a22eb8",
   "metadata": {},
   "outputs": [
    {
     "name": "stdout",
     "output_type": "stream",
     "text": [
      "Size v = 5\n",
      "\n",
      "Shape v = (5,)\n",
      "\n",
      "Max v = 5\n",
      "Min v = 1\n",
      "Max v = 3.0\n",
      "Max v = 1.4142135623730951\n",
      "\n",
      "Transpose a = [[1 3]\n",
      " [2 4]]\n",
      "Transpose b = [[5 7]\n",
      " [6 8]]\n",
      "\n",
      "Ordered v = [1 2 3 4 5]\n",
      "\n",
      "Sum a + b = [[ 6  8]\n",
      " [10 12]]\n",
      "Difference a - b = [[-4 -4]\n",
      " [-4 -4]]\n",
      "\n",
      "Multiplication a * b = [[19 22]\n",
      " [43 50]]\n",
      "\n",
      "Vettore da 0 - 9: [0 1 2 3 4 5 6 7 8 9]\n",
      "\n",
      "Vettore da 4 a 36 con solo multipli di 4: [ 4  8 12 16 20 24 28 32 36]\n",
      "\n",
      "Matrice 2 x 2 di soli zero: [[0 0]\n",
      " [0 0]]\n",
      "\n",
      "Matrice 2 x 2 di soli uno: [[1 1]\n",
      " [1 1]]\n",
      "\n",
      "Matrice 10 x 10 di soli 3: [[3 3 3 3 3 3 3 3 3 3]\n",
      " [3 3 3 3 3 3 3 3 3 3]\n",
      " [3 3 3 3 3 3 3 3 3 3]\n",
      " [3 3 3 3 3 3 3 3 3 3]\n",
      " [3 3 3 3 3 3 3 3 3 3]\n",
      " [3 3 3 3 3 3 3 3 3 3]\n",
      " [3 3 3 3 3 3 3 3 3 3]\n",
      " [3 3 3 3 3 3 3 3 3 3]\n",
      " [3 3 3 3 3 3 3 3 3 3]\n",
      " [3 3 3 3 3 3 3 3 3 3]]\n",
      "\n",
      "Matrice 10 x 10 piena di 1 con 7 nelle diagonali: [[7. 1. 1. 1. 1. 1. 1. 1. 1. 1.]\n",
      " [1. 7. 1. 1. 1. 1. 1. 1. 1. 1.]\n",
      " [1. 1. 7. 1. 1. 1. 1. 1. 1. 1.]\n",
      " [1. 1. 1. 7. 1. 1. 1. 1. 1. 1.]\n",
      " [1. 1. 1. 1. 7. 1. 1. 1. 1. 1.]\n",
      " [1. 1. 1. 1. 1. 7. 1. 1. 1. 1.]\n",
      " [1. 1. 1. 1. 1. 1. 7. 1. 1. 1.]\n",
      " [1. 1. 1. 1. 1. 1. 1. 7. 1. 1.]\n",
      " [1. 1. 1. 1. 1. 1. 1. 1. 7. 1.]\n",
      " [1. 1. 1. 1. 1. 1. 1. 1. 1. 7.]]\n",
      "\n",
      "Matrice 10 x 10 piena di 1 e 9 nelle diagonali: [[9. 1. 1. 1. 1. 1. 1. 1. 1. 1.]\n",
      " [1. 9. 1. 1. 1. 1. 1. 1. 1. 1.]\n",
      " [1. 1. 9. 1. 1. 1. 1. 1. 1. 1.]\n",
      " [1. 1. 1. 9. 1. 1. 1. 1. 1. 1.]\n",
      " [1. 1. 1. 1. 9. 1. 1. 1. 1. 1.]\n",
      " [1. 1. 1. 1. 1. 9. 1. 1. 1. 1.]\n",
      " [1. 1. 1. 1. 1. 1. 9. 1. 1. 1.]\n",
      " [1. 1. 1. 1. 1. 1. 1. 9. 1. 1.]\n",
      " [1. 1. 1. 1. 1. 1. 1. 1. 9. 1.]\n",
      " [1. 1. 1. 1. 1. 1. 1. 1. 1. 9.]]\n"
     ]
    }
   ],
   "source": [
    "v = np.array([1,5,4,3,2])\n",
    "a = np.array([[1,2],[3,4]])\n",
    "b = np.array([[5,6],[7,8]])\n",
    "\n",
    "print(f\"Size v = {v.size}\\n\")\n",
    "\n",
    "print(f\"Shape v = {v.shape}\\n\")\n",
    "\n",
    "print(f\"Max v = {np.max(v)}\")\n",
    "print(f\"Min v = {np.min(v)}\")\n",
    "print(f\"Max v = {np.mean(v)}\")\n",
    "print(f\"Max v = {np.std(v)}\\n\")\n",
    "\n",
    "print(f\"Transpose a = {np.transpose(a)}\")\n",
    "print(f\"Transpose b = {np.transpose(b)}\\n\")\n",
    "\n",
    "print(f\"Ordered v = {np.sort(v)}\\n\")\n",
    "\n",
    "print(f\"Sum a + b = {a + b}\")\n",
    "print(f\"Difference a - b = {a - b}\\n\")\n",
    "\n",
    "print(f\"Multiplication a * b = {np.dot(a, b)}\\n\")\n",
    "\n",
    "vec = np.arange(0, 10)\n",
    "print(f\"Vettore da 0 - 9: {vec}\\n\")\n",
    "\n",
    "vec4 = np.arange(4, 37, 4)\n",
    "print(f\"Vettore da 4 a 36 con solo multipli di 4: {vec4}\\n\")\n",
    "\n",
    "mat0 = np.zeros((2, 2), dtype=np.int8)\n",
    "print(f\"Matrice 2 x 2 di soli zero: {mat0}\\n\")\n",
    "\n",
    "mat1 = np.ones((2, 2), dtype=np.int8)\n",
    "print(f\"Matrice 2 x 2 di soli uno: {mat1}\\n\")\n",
    "\n",
    "mat3 = np.full((10, 10), 3)\n",
    "print(f\"Matrice 10 x 10 di soli 3: {mat3}\\n\")\n",
    "\n",
    "mat17 = np.ones((10, 10))\n",
    "np.fill_diagonal(mat17, 7)\n",
    "print(f\"Matrice 10 x 10 piena di 1 con 7 nelle diagonali: {mat17}\\n\")\n",
    "\n",
    "mat17[mat17 == 7] = 9\n",
    "print(f\"Matrice 10 x 10 piena di 1 e 9 nelle diagonali: {mat17}\")"
   ]
  },
  {
   "cell_type": "code",
   "execution_count": null,
   "id": "e6b99c49-c274-49f0-afaa-6802091cf4bd",
   "metadata": {},
   "outputs": [],
   "source": []
  }
 ],
 "metadata": {
  "kernelspec": {
   "display_name": "Python [conda env:base] *",
   "language": "python",
   "name": "conda-base-py"
  },
  "language_info": {
   "codemirror_mode": {
    "name": "ipython",
    "version": 3
   },
   "file_extension": ".py",
   "mimetype": "text/x-python",
   "name": "python",
   "nbconvert_exporter": "python",
   "pygments_lexer": "ipython3",
   "version": "3.12.7"
  }
 },
 "nbformat": 4,
 "nbformat_minor": 5
}
